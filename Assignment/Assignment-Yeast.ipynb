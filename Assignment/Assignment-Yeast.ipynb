{
 "cells": [
  {
   "cell_type": "code",
   "execution_count": 6,
   "id": "bb277bdd-ad42-4700-816f-1dc4987ce83a",
   "metadata": {},
   "outputs": [],
   "source": [
    "import seaborn as sns\n",
    "import pandas as pd\n",
    "from sklearn.model_selection import train_test_split \n",
    "from sklearn.preprocessing import StandardScaler,MinMaxScaler, RobustScaler\n",
    "from sklearn.linear_model import LogisticRegression \n",
    "from sklearn.metrics import confusion_matrix,classification_report,accuracy_score,recall_score,precision_score,f1_score \n",
    "from sklearn.naive_bayes import MultinomialNB"
   ]
  },
  {
   "cell_type": "code",
   "execution_count": 7,
   "id": "4cfa3aee-dc83-464f-8325-c36667638b75",
   "metadata": {},
   "outputs": [],
   "source": [
    "#%pip install ucimlrepo"
   ]
  },
  {
   "cell_type": "code",
   "execution_count": 8,
   "id": "ab542b0f-71fe-44ed-8d7b-0188a4174bb2",
   "metadata": {},
   "outputs": [
    {
     "name": "stdout",
     "output_type": "stream",
     "text": [
      "{'uci_id': 110, 'name': 'Yeast', 'repository_url': 'https://archive.ics.uci.edu/dataset/110/yeast', 'data_url': 'https://archive.ics.uci.edu/static/public/110/data.csv', 'abstract': 'Predicting the Cellular Localization Sites of Proteins', 'area': 'Biology', 'tasks': ['Classification'], 'characteristics': ['Multivariate'], 'num_instances': 1484, 'num_features': 8, 'feature_types': ['Real'], 'demographics': [], 'target_col': ['localization_site'], 'index_col': ['Sequence_Name'], 'has_missing_values': 'no', 'missing_values_symbol': None, 'year_of_dataset_creation': 1991, 'last_updated': 'Sat Oct 28 2023', 'dataset_doi': '10.24432/C5KG68', 'creators': ['Kenta Nakai'], 'intro_paper': None, 'additional_info': {'summary': 'Predicted Attribute: Localization site of protein. ( non-numeric ).\\r\\n\\r\\nThe references below describe a predecessor to this dataset and its development. They also give results (not cross-validated) for classification by a rule-based expert system with that version of the dataset.\\r\\n\\r\\nReference: \"Expert Sytem for Predicting Protein Localization Sites in Gram-Negative Bacteria\", Kenta Nakai & Minoru Kanehisa,  PROTEINS: Structure, Function, and Genetics 11:95-110, 1991.\\r\\n\\r\\nReference: \"A Knowledge Base for Predicting Protein Localization Sites in Eukaryotic Cells\", Kenta Nakai & Minoru Kanehisa, Genomics 14:897-911, 1992.', 'purpose': None, 'funded_by': None, 'instances_represent': None, 'recommended_data_splits': None, 'sensitive_data': None, 'preprocessing_description': None, 'variable_info': None, 'citation': None}}\n",
      "                name     role         type demographic  \\\n",
      "0      Sequence_Name       ID  Categorical        None   \n",
      "1                mcg  Feature   Continuous        None   \n",
      "2                gvh  Feature   Continuous        None   \n",
      "3                alm  Feature   Continuous        None   \n",
      "4                mit  Feature   Continuous        None   \n",
      "5                erl  Feature   Continuous        None   \n",
      "6                pox  Feature   Continuous        None   \n",
      "7                vac  Feature   Continuous        None   \n",
      "8                nuc  Feature   Continuous        None   \n",
      "9  localization_site   Target  Categorical        None   \n",
      "\n",
      "                                         description units missing_values  \n",
      "0       Accession number for the SWISS-PROT database  None             no  \n",
      "1  McGeoch's method for signal sequence recognition.  None             no  \n",
      "2  von Heijne's method for signal sequence recogn...  None             no  \n",
      "3  Score of the ALOM membrane spanning region pre...  None             no  \n",
      "4  Score of discriminant analysis of the amino ac...  None             no  \n",
      "5  Presence of HDEL substring (thought to act as ...  None             no  \n",
      "6    Peroxisomal targeting signal in the C-terminus.  None             no  \n",
      "7  Score of discriminant analysis of the amino ac...  None             no  \n",
      "8  Score of discriminant analysis of nuclear loca...  None             no  \n",
      "9                                               None  None             no  \n"
     ]
    }
   ],
   "source": [
    "from ucimlrepo import fetch_ucirepo \n",
    "  \n",
    "# fetch dataset \n",
    "yeast = fetch_ucirepo(id=110) \n",
    "  \n",
    "# data (as pandas dataframes) \n",
    "X = yeast.data.features \n",
    "y = yeast.data.targets \n",
    "  \n",
    "# metadata \n",
    "print(yeast.metadata) \n",
    "  \n",
    "# variable information \n",
    "print(yeast.variables) "
   ]
  },
  {
   "cell_type": "code",
   "execution_count": 10,
   "id": "daf3b660-423b-42d9-9455-f9a29bd1a076",
   "metadata": {},
   "outputs": [],
   "source": [
    "yeast_data = pd.concat([X,y], axis=1)"
   ]
  },
  {
   "cell_type": "code",
   "execution_count": 11,
   "id": "78fb7db7-282f-4718-b916-58516d36cd04",
   "metadata": {},
   "outputs": [
    {
     "data": {
      "text/html": [
       "<div>\n",
       "<style scoped>\n",
       "    .dataframe tbody tr th:only-of-type {\n",
       "        vertical-align: middle;\n",
       "    }\n",
       "\n",
       "    .dataframe tbody tr th {\n",
       "        vertical-align: top;\n",
       "    }\n",
       "\n",
       "    .dataframe thead th {\n",
       "        text-align: right;\n",
       "    }\n",
       "</style>\n",
       "<table border=\"1\" class=\"dataframe\">\n",
       "  <thead>\n",
       "    <tr style=\"text-align: right;\">\n",
       "      <th></th>\n",
       "      <th>mcg</th>\n",
       "      <th>gvh</th>\n",
       "      <th>alm</th>\n",
       "      <th>mit</th>\n",
       "      <th>erl</th>\n",
       "      <th>pox</th>\n",
       "      <th>vac</th>\n",
       "      <th>nuc</th>\n",
       "      <th>localization_site</th>\n",
       "    </tr>\n",
       "  </thead>\n",
       "  <tbody>\n",
       "    <tr>\n",
       "      <th>0</th>\n",
       "      <td>0.58</td>\n",
       "      <td>0.61</td>\n",
       "      <td>0.47</td>\n",
       "      <td>0.13</td>\n",
       "      <td>0.5</td>\n",
       "      <td>0.0</td>\n",
       "      <td>0.48</td>\n",
       "      <td>0.22</td>\n",
       "      <td>MIT</td>\n",
       "    </tr>\n",
       "    <tr>\n",
       "      <th>1</th>\n",
       "      <td>0.43</td>\n",
       "      <td>0.67</td>\n",
       "      <td>0.48</td>\n",
       "      <td>0.27</td>\n",
       "      <td>0.5</td>\n",
       "      <td>0.0</td>\n",
       "      <td>0.53</td>\n",
       "      <td>0.22</td>\n",
       "      <td>MIT</td>\n",
       "    </tr>\n",
       "    <tr>\n",
       "      <th>2</th>\n",
       "      <td>0.64</td>\n",
       "      <td>0.62</td>\n",
       "      <td>0.49</td>\n",
       "      <td>0.15</td>\n",
       "      <td>0.5</td>\n",
       "      <td>0.0</td>\n",
       "      <td>0.53</td>\n",
       "      <td>0.22</td>\n",
       "      <td>MIT</td>\n",
       "    </tr>\n",
       "    <tr>\n",
       "      <th>3</th>\n",
       "      <td>0.58</td>\n",
       "      <td>0.44</td>\n",
       "      <td>0.57</td>\n",
       "      <td>0.13</td>\n",
       "      <td>0.5</td>\n",
       "      <td>0.0</td>\n",
       "      <td>0.54</td>\n",
       "      <td>0.22</td>\n",
       "      <td>NUC</td>\n",
       "    </tr>\n",
       "    <tr>\n",
       "      <th>4</th>\n",
       "      <td>0.42</td>\n",
       "      <td>0.44</td>\n",
       "      <td>0.48</td>\n",
       "      <td>0.54</td>\n",
       "      <td>0.5</td>\n",
       "      <td>0.0</td>\n",
       "      <td>0.48</td>\n",
       "      <td>0.22</td>\n",
       "      <td>MIT</td>\n",
       "    </tr>\n",
       "  </tbody>\n",
       "</table>\n",
       "</div>"
      ],
      "text/plain": [
       "    mcg   gvh   alm   mit  erl  pox   vac   nuc localization_site\n",
       "0  0.58  0.61  0.47  0.13  0.5  0.0  0.48  0.22               MIT\n",
       "1  0.43  0.67  0.48  0.27  0.5  0.0  0.53  0.22               MIT\n",
       "2  0.64  0.62  0.49  0.15  0.5  0.0  0.53  0.22               MIT\n",
       "3  0.58  0.44  0.57  0.13  0.5  0.0  0.54  0.22               NUC\n",
       "4  0.42  0.44  0.48  0.54  0.5  0.0  0.48  0.22               MIT"
      ]
     },
     "execution_count": 11,
     "metadata": {},
     "output_type": "execute_result"
    }
   ],
   "source": [
    "yeast_data.head()"
   ]
  },
  {
   "cell_type": "code",
   "execution_count": null,
   "id": "2d56af06-ef74-4fe3-b72c-e8d202ae8ab9",
   "metadata": {},
   "outputs": [],
   "source": [
    "#Part 2: describing the dataset\n",
    "#The first task is to report on the structure of the dataset and the goal of data mining for the dataset.\n",
    "#Use a table to give an overview of the attributes, to note the attribute types and to give a brief description of the attributes."
   ]
  },
  {
   "cell_type": "code",
   "execution_count": 4,
   "id": "c63f097b-3120-4d76-ad9c-06ba5e998a1b",
   "metadata": {},
   "outputs": [
    {
     "data": {
      "text/html": [
       "<div>\n",
       "<style scoped>\n",
       "    .dataframe tbody tr th:only-of-type {\n",
       "        vertical-align: middle;\n",
       "    }\n",
       "\n",
       "    .dataframe tbody tr th {\n",
       "        vertical-align: top;\n",
       "    }\n",
       "\n",
       "    .dataframe thead th {\n",
       "        text-align: right;\n",
       "    }\n",
       "</style>\n",
       "<table border=\"1\" class=\"dataframe\">\n",
       "  <thead>\n",
       "    <tr style=\"text-align: right;\">\n",
       "      <th></th>\n",
       "      <th>mcg</th>\n",
       "      <th>gvh</th>\n",
       "      <th>alm</th>\n",
       "      <th>mit</th>\n",
       "      <th>erl</th>\n",
       "      <th>pox</th>\n",
       "      <th>vac</th>\n",
       "      <th>nuc</th>\n",
       "    </tr>\n",
       "  </thead>\n",
       "  <tbody>\n",
       "    <tr>\n",
       "      <th>0</th>\n",
       "      <td>0.58</td>\n",
       "      <td>0.61</td>\n",
       "      <td>0.47</td>\n",
       "      <td>0.13</td>\n",
       "      <td>0.5</td>\n",
       "      <td>0.0</td>\n",
       "      <td>0.48</td>\n",
       "      <td>0.22</td>\n",
       "    </tr>\n",
       "    <tr>\n",
       "      <th>1</th>\n",
       "      <td>0.43</td>\n",
       "      <td>0.67</td>\n",
       "      <td>0.48</td>\n",
       "      <td>0.27</td>\n",
       "      <td>0.5</td>\n",
       "      <td>0.0</td>\n",
       "      <td>0.53</td>\n",
       "      <td>0.22</td>\n",
       "    </tr>\n",
       "    <tr>\n",
       "      <th>2</th>\n",
       "      <td>0.64</td>\n",
       "      <td>0.62</td>\n",
       "      <td>0.49</td>\n",
       "      <td>0.15</td>\n",
       "      <td>0.5</td>\n",
       "      <td>0.0</td>\n",
       "      <td>0.53</td>\n",
       "      <td>0.22</td>\n",
       "    </tr>\n",
       "    <tr>\n",
       "      <th>3</th>\n",
       "      <td>0.58</td>\n",
       "      <td>0.44</td>\n",
       "      <td>0.57</td>\n",
       "      <td>0.13</td>\n",
       "      <td>0.5</td>\n",
       "      <td>0.0</td>\n",
       "      <td>0.54</td>\n",
       "      <td>0.22</td>\n",
       "    </tr>\n",
       "    <tr>\n",
       "      <th>4</th>\n",
       "      <td>0.42</td>\n",
       "      <td>0.44</td>\n",
       "      <td>0.48</td>\n",
       "      <td>0.54</td>\n",
       "      <td>0.5</td>\n",
       "      <td>0.0</td>\n",
       "      <td>0.48</td>\n",
       "      <td>0.22</td>\n",
       "    </tr>\n",
       "    <tr>\n",
       "      <th>...</th>\n",
       "      <td>...</td>\n",
       "      <td>...</td>\n",
       "      <td>...</td>\n",
       "      <td>...</td>\n",
       "      <td>...</td>\n",
       "      <td>...</td>\n",
       "      <td>...</td>\n",
       "      <td>...</td>\n",
       "    </tr>\n",
       "    <tr>\n",
       "      <th>1479</th>\n",
       "      <td>0.81</td>\n",
       "      <td>0.62</td>\n",
       "      <td>0.43</td>\n",
       "      <td>0.17</td>\n",
       "      <td>0.5</td>\n",
       "      <td>0.0</td>\n",
       "      <td>0.53</td>\n",
       "      <td>0.22</td>\n",
       "    </tr>\n",
       "    <tr>\n",
       "      <th>1480</th>\n",
       "      <td>0.47</td>\n",
       "      <td>0.43</td>\n",
       "      <td>0.61</td>\n",
       "      <td>0.40</td>\n",
       "      <td>0.5</td>\n",
       "      <td>0.0</td>\n",
       "      <td>0.48</td>\n",
       "      <td>0.47</td>\n",
       "    </tr>\n",
       "    <tr>\n",
       "      <th>1481</th>\n",
       "      <td>0.67</td>\n",
       "      <td>0.57</td>\n",
       "      <td>0.36</td>\n",
       "      <td>0.19</td>\n",
       "      <td>0.5</td>\n",
       "      <td>0.0</td>\n",
       "      <td>0.56</td>\n",
       "      <td>0.22</td>\n",
       "    </tr>\n",
       "    <tr>\n",
       "      <th>1482</th>\n",
       "      <td>0.43</td>\n",
       "      <td>0.40</td>\n",
       "      <td>0.60</td>\n",
       "      <td>0.16</td>\n",
       "      <td>0.5</td>\n",
       "      <td>0.0</td>\n",
       "      <td>0.53</td>\n",
       "      <td>0.39</td>\n",
       "    </tr>\n",
       "    <tr>\n",
       "      <th>1483</th>\n",
       "      <td>0.65</td>\n",
       "      <td>0.54</td>\n",
       "      <td>0.54</td>\n",
       "      <td>0.13</td>\n",
       "      <td>0.5</td>\n",
       "      <td>0.0</td>\n",
       "      <td>0.53</td>\n",
       "      <td>0.22</td>\n",
       "    </tr>\n",
       "  </tbody>\n",
       "</table>\n",
       "<p>1484 rows × 8 columns</p>\n",
       "</div>"
      ],
      "text/plain": [
       "       mcg   gvh   alm   mit  erl  pox   vac   nuc\n",
       "0     0.58  0.61  0.47  0.13  0.5  0.0  0.48  0.22\n",
       "1     0.43  0.67  0.48  0.27  0.5  0.0  0.53  0.22\n",
       "2     0.64  0.62  0.49  0.15  0.5  0.0  0.53  0.22\n",
       "3     0.58  0.44  0.57  0.13  0.5  0.0  0.54  0.22\n",
       "4     0.42  0.44  0.48  0.54  0.5  0.0  0.48  0.22\n",
       "...    ...   ...   ...   ...  ...  ...   ...   ...\n",
       "1479  0.81  0.62  0.43  0.17  0.5  0.0  0.53  0.22\n",
       "1480  0.47  0.43  0.61  0.40  0.5  0.0  0.48  0.47\n",
       "1481  0.67  0.57  0.36  0.19  0.5  0.0  0.56  0.22\n",
       "1482  0.43  0.40  0.60  0.16  0.5  0.0  0.53  0.39\n",
       "1483  0.65  0.54  0.54  0.13  0.5  0.0  0.53  0.22\n",
       "\n",
       "[1484 rows x 8 columns]"
      ]
     },
     "metadata": {},
     "output_type": "display_data"
    }
   ],
   "source": [
    "display(yeast.data.features)"
   ]
  },
  {
   "cell_type": "code",
   "execution_count": 5,
   "id": "bb872e1a-233a-4dd7-a3d0-5ca1e91ac5bc",
   "metadata": {},
   "outputs": [
    {
     "name": "stdout",
     "output_type": "stream",
     "text": [
      "Rows, columns: (1484, 8)\n",
      "Rows, columns: (1484, 1)\n"
     ]
    }
   ],
   "source": [
    "print(\"Rows, columns:\", X.shape)\n",
    "print(\"Rows, columns:\",y.shape)"
   ]
  },
  {
   "cell_type": "code",
   "execution_count": 6,
   "id": "db2ccc53-b507-4fe3-ba98-420dca4cd437",
   "metadata": {},
   "outputs": [
    {
     "data": {
      "text/plain": [
       "mcg    float64\n",
       "gvh    float64\n",
       "alm    float64\n",
       "mit    float64\n",
       "erl    float64\n",
       "pox    float64\n",
       "vac    float64\n",
       "nuc    float64\n",
       "dtype: object"
      ]
     },
     "execution_count": 6,
     "metadata": {},
     "output_type": "execute_result"
    }
   ],
   "source": [
    "X.dtypes"
   ]
  },
  {
   "cell_type": "code",
   "execution_count": 7,
   "id": "ab1957d9-a3bb-47ec-a1cf-0084a7768481",
   "metadata": {},
   "outputs": [
    {
     "data": {
      "text/plain": [
       "localization_site    object\n",
       "dtype: object"
      ]
     },
     "execution_count": 7,
     "metadata": {},
     "output_type": "execute_result"
    }
   ],
   "source": [
    "y.dtypes"
   ]
  },
  {
   "cell_type": "code",
   "execution_count": null,
   "id": "a400792d-6a76-46a1-925a-b79ebe290061",
   "metadata": {},
   "outputs": [],
   "source": [
    "#Part 3: exploring and pre-processing\n",
    "#Explore the dataset. Use visualization techniques to gain information on which attributes may be correlated to predict the target(s). \n",
    "#Describe the executed pre-processing steps and substantiate why you performed the steps."
   ]
  },
  {
   "cell_type": "code",
   "execution_count": 8,
   "id": "98c1c9ab-ab96-4f11-827c-3c9ccda6a0ba",
   "metadata": {},
   "outputs": [
    {
     "data": {
      "text/plain": [
       "<Axes: xlabel='localization_site', ylabel='count'>"
      ]
     },
     "execution_count": 8,
     "metadata": {},
     "output_type": "execute_result"
    },
    {
     "data": {
      "image/png": "[encoded data removed]",
      "text/plain": [
       "<Figure size 640x480 with 1 Axes>"
      ]
     },
     "metadata": {},
     "output_type": "display_data"
    }
   ],
   "source": [
    "sns.countplot(y, x = \"localization_site\")"
   ]
  },
  {
   "cell_type": "code",
   "execution_count": 9,
   "id": "6882d5a0-2d95-4b5f-b129-dde3dd60bbc1",
   "metadata": {},
   "outputs": [
    {
     "data": {
      "image/png": "[encoded data removed]",
      "text/plain": [
       "<Figure size 2000x1500 with 9 Axes>"
      ]
     },
     "metadata": {},
     "output_type": "display_data"
    }
   ],
   "source": [
    "plot = X.hist(figsize=(20,15),grid=False)"
   ]
  },
  {
   "cell_type": "code",
   "execution_count": null,
   "id": "44f582fc-212c-465e-803c-6980d83e1782",
   "metadata": {},
   "outputs": [],
   "source": [
    "from scipy.stats import zscore\n",
    "\n",
    "# Remove the outliers (example code)\n",
    "data_no_outliers = data[(abs(zscore(data))<=5).all(axis=1)]\n",
    "\n",
    "# Take a look at the new shape of the dataframe\n",
    "data_no_outliers.shape"
   ]
  },
  {
   "cell_type": "code",
   "execution_count": null,
   "id": "b7967b2e-6e4a-43d0-a2f9-5bef8f0c2007",
   "metadata": {},
   "outputs": [],
   "source": [
    "# Look at the correlations between multiple features by displaying a correlation plot (in heatmap form)\n",
    "f, ax = plt.subplots(figsize=(20, 16))\n",
    "corr = data_no_outliers.corr()\n",
    "sns.heatmap(corr, mask=np.zeros_like(corr, dtype=bool), cmap=sns.diverging_palette(220, 10, as_cmap=True),\n",
    "            square=True, ax=ax,annot=True)"
   ]
  },
  {
   "cell_type": "code",
   "execution_count": null,
   "id": "aead82a0-b437-4174-99b0-5ae20c65c496",
   "metadata": {},
   "outputs": [],
   "source": [
    "#Part 4: regression\n",
    "#Use one or more regression techniques to predict a target value. \n",
    "#If you choose a technique that is not discussed the course unit, provide a brief description of the technique in your report. \n",
    "#After the models construction, use a test set to test your model. \n",
    "#Show interesting metrics for the model and try to optimize it. For this you can use normalization, regularization, hyperparameter tuning, higher order features. \n",
    "#Describe as much as possible what you have tried and what works and what doesn't work for your dataset."
   ]
  },
  {
   "cell_type": "code",
   "execution_count": null,
   "id": "8c8c61ee-b41b-4611-a544-123175306473",
   "metadata": {},
   "outputs": [],
   "source": []
  },
  {
   "cell_type": "code",
   "execution_count": null,
   "id": "356e2bf1-414d-4c96-b6bf-48b0f1e70ad5",
   "metadata": {},
   "outputs": [],
   "source": [
    "#Part 5: classification\n",
    "#Use one or more classification techniques to predict a target class. \n",
    "#If you choose a technique that is not discussed the course unit, provide a brief description of the technique in your report. \n",
    "#If there is no class attribute provided or there are multiple class attributes available, create and/or choose one class attribute. \n",
    "#After the models construction, use a test set to test your model. \n",
    "#Show interesting metrics for the model and try to optimize it. \n",
    "#For this you can use normalization, regularization, hyperparameter tuning, higher order features. \n",
    "#Describe as much as possible what you have tried and what works and what doesn't work for your dataset."
   ]
  },
  {
   "cell_type": "code",
   "execution_count": null,
   "id": "368572ce-f4a2-4ea3-98a0-847d033141ba",
   "metadata": {},
   "outputs": [],
   "source": [
    "#Part 6: clustering\n",
    "#Choose and apply one or more clustering techniques to your dataset. \n",
    "#If you choose a technique that is not in the syllabus of the course unit, provide a brief description of the technique in your report. \n",
    "#You are not obliged to use all the available attributes in your model. \n",
    "#You can restrict your analysis to attributes that have a good performance, for example by trying different combinations of attributes. \n",
    "#Try to use the cluster model as a classification model based on the same attribute as in part 5"
   ]
  },
  {
   "cell_type": "code",
   "execution_count": null,
   "id": "fcd05190-ac83-419b-9d8e-b48bd88ca736",
   "metadata": {},
   "outputs": [],
   "source": [
    "#Part 7: conclusion\n",
    "#Write a conclusion for the different techniques.\n",
    "#    Was this a good dataset to try and perform machine learning on?\n",
    " #   What where the biggest problems?\n",
    "  #  If you tried multiple different models for some of the parts, which one worked best?\n",
    "   # Would you say the different models are good enough to use in a practical context? Why, why not?"
   ]
  }
 ],
 "metadata": {
  "kernelspec": {
   "display_name": "Python 3 (ipykernel)",
   "language": "python",
   "name": "python3"
  },
  "language_info": {
   "codemirror_mode": {
    "name": "ipython",
    "version": 3
   },
   "file_extension": ".py",
   "mimetype": "text/x-python",
   "name": "python",
   "nbconvert_exporter": "python",
   "pygments_lexer": "ipython3",
   "version": "3.12.1"
  }
 },
 "nbformat": 4,
 "nbformat_minor": 5
}
