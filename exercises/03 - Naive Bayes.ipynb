{
 "cells": [
  {
   "cell_type": "code",
   "execution_count": 4,
   "metadata": {},
   "outputs": [],
   "source": [
    "%matplotlib inline\n",
    "import pandas as pd\n",
    "import matplotlib.pyplot as plt\n",
    "from sklearn.model_selection import train_test_split\n",
    "from sklearn.metrics import classification_report,confusion_matrix\n",
    "from sklearn.linear_model import LogisticRegression\n",
    "from sklearn.naive_bayes import MultinomialNB\n",
    "import seaborn as sns\n",
    "import numpy as np\n",
    "from sklearn.preprocessing import StandardScaler,MinMaxScaler, RobustScaler "
   ]
  },
  {
   "cell_type": "markdown",
   "metadata": {},
   "source": [
    "# Cancer Inhibitors dataset\n",
    "Following dataset is coming from https://www.kaggle.com/xiaotawkaggle/inhibitors\n",
    "\n",
    "On Leho there is an adapted csv of the cdk2.h5 dataset. The adaptations I already did for you was extracting the data out of the .h5 file. Renaming the columns, add in the IDs of each of the compounds (row names) and combine it with the target into a .csv file.\n",
    "\n",
    "For cdk2, 1890 potential inhibitors are collected from chembl database, in which molecules with IC50 lower than 10 uM are usually considered as inhibitors, otherwise non-inhibitors.\n",
    "\n",
    "The rownames represent the CHEMBL Id, which can be used to search the CHEMBL database: https://www.ebi.ac.uk/chembl/\n",
    "\n",
    "The features are split into 3 categories that represent three different sets of molecular fingerprints calculated by RDKIT. For more information: http://www.rdkit.org/docs/GettingStartedInPython.html#topological-fingerprints\n",
    "* ap: Atom Pairs\n",
    "* mg: Morgan Fingerprints (Circular Fingerprints)\n",
    "* tt: Topological Torsions\n",
    "\n",
    "The actual values represent if a molecular fingerprint is present in a specific molecule or not (1: present, 0: not present)\n",
    "\n",
    "The target column indicated if the molecule is considered an inhibitor or not."
   ]
  },
  {
   "cell_type": "code",
   "execution_count": 17,
   "metadata": {},
   "outputs": [
    {
     "data": {
      "text/html": [
       "<div>\n",
       "<style scoped>\n",
       "    .dataframe tbody tr th:only-of-type {\n",
       "        vertical-align: middle;\n",
       "    }\n",
       "\n",
       "    .dataframe tbody tr th {\n",
       "        vertical-align: top;\n",
       "    }\n",
       "\n",
       "    .dataframe thead th {\n",
       "        text-align: right;\n",
       "    }\n",
       "</style>\n",
       "<table border=\"1\" class=\"dataframe\">\n",
       "  <thead>\n",
       "    <tr style=\"text-align: right;\">\n",
       "      <th></th>\n",
       "      <th>ap_1</th>\n",
       "      <th>ap_2</th>\n",
       "      <th>ap_3</th>\n",
       "      <th>ap_4</th>\n",
       "      <th>ap_5</th>\n",
       "      <th>ap_6</th>\n",
       "      <th>ap_7</th>\n",
       "      <th>ap_8</th>\n",
       "      <th>ap_9</th>\n",
       "      <th>ap_10</th>\n",
       "      <th>...</th>\n",
       "      <th>tt_2031</th>\n",
       "      <th>tt_2032</th>\n",
       "      <th>tt_2033</th>\n",
       "      <th>tt_2034</th>\n",
       "      <th>tt_2035</th>\n",
       "      <th>tt_2036</th>\n",
       "      <th>tt_2037</th>\n",
       "      <th>tt_2038</th>\n",
       "      <th>tt_2039</th>\n",
       "      <th>target</th>\n",
       "    </tr>\n",
       "  </thead>\n",
       "  <tbody>\n",
       "    <tr>\n",
       "      <th>CHEMBL405042</th>\n",
       "      <td>0</td>\n",
       "      <td>0</td>\n",
       "      <td>0</td>\n",
       "      <td>0</td>\n",
       "      <td>0</td>\n",
       "      <td>0</td>\n",
       "      <td>0</td>\n",
       "      <td>0</td>\n",
       "      <td>0</td>\n",
       "      <td>0</td>\n",
       "      <td>...</td>\n",
       "      <td>0</td>\n",
       "      <td>0</td>\n",
       "      <td>0</td>\n",
       "      <td>0</td>\n",
       "      <td>0</td>\n",
       "      <td>0</td>\n",
       "      <td>0</td>\n",
       "      <td>0</td>\n",
       "      <td>0</td>\n",
       "      <td>1</td>\n",
       "    </tr>\n",
       "    <tr>\n",
       "      <th>CHEMBL258805</th>\n",
       "      <td>0</td>\n",
       "      <td>0</td>\n",
       "      <td>0</td>\n",
       "      <td>0</td>\n",
       "      <td>0</td>\n",
       "      <td>0</td>\n",
       "      <td>0</td>\n",
       "      <td>0</td>\n",
       "      <td>0</td>\n",
       "      <td>0</td>\n",
       "      <td>...</td>\n",
       "      <td>0</td>\n",
       "      <td>0</td>\n",
       "      <td>0</td>\n",
       "      <td>0</td>\n",
       "      <td>0</td>\n",
       "      <td>0</td>\n",
       "      <td>0</td>\n",
       "      <td>0</td>\n",
       "      <td>0</td>\n",
       "      <td>1</td>\n",
       "    </tr>\n",
       "    <tr>\n",
       "      <th>CHEMBL318485</th>\n",
       "      <td>1</td>\n",
       "      <td>0</td>\n",
       "      <td>0</td>\n",
       "      <td>0</td>\n",
       "      <td>0</td>\n",
       "      <td>0</td>\n",
       "      <td>0</td>\n",
       "      <td>0</td>\n",
       "      <td>0</td>\n",
       "      <td>0</td>\n",
       "      <td>...</td>\n",
       "      <td>0</td>\n",
       "      <td>0</td>\n",
       "      <td>0</td>\n",
       "      <td>0</td>\n",
       "      <td>0</td>\n",
       "      <td>0</td>\n",
       "      <td>0</td>\n",
       "      <td>1</td>\n",
       "      <td>0</td>\n",
       "      <td>0</td>\n",
       "    </tr>\n",
       "    <tr>\n",
       "      <th>CHEMBL260417</th>\n",
       "      <td>0</td>\n",
       "      <td>0</td>\n",
       "      <td>0</td>\n",
       "      <td>0</td>\n",
       "      <td>0</td>\n",
       "      <td>0</td>\n",
       "      <td>0</td>\n",
       "      <td>0</td>\n",
       "      <td>0</td>\n",
       "      <td>0</td>\n",
       "      <td>...</td>\n",
       "      <td>0</td>\n",
       "      <td>0</td>\n",
       "      <td>0</td>\n",
       "      <td>0</td>\n",
       "      <td>0</td>\n",
       "      <td>0</td>\n",
       "      <td>0</td>\n",
       "      <td>0</td>\n",
       "      <td>0</td>\n",
       "      <td>1</td>\n",
       "    </tr>\n",
       "    <tr>\n",
       "      <th>CHEMBL101557</th>\n",
       "      <td>1</td>\n",
       "      <td>0</td>\n",
       "      <td>0</td>\n",
       "      <td>0</td>\n",
       "      <td>0</td>\n",
       "      <td>0</td>\n",
       "      <td>0</td>\n",
       "      <td>0</td>\n",
       "      <td>0</td>\n",
       "      <td>0</td>\n",
       "      <td>...</td>\n",
       "      <td>0</td>\n",
       "      <td>0</td>\n",
       "      <td>0</td>\n",
       "      <td>0</td>\n",
       "      <td>0</td>\n",
       "      <td>0</td>\n",
       "      <td>0</td>\n",
       "      <td>1</td>\n",
       "      <td>0</td>\n",
       "      <td>0</td>\n",
       "    </tr>\n",
       "  </tbody>\n",
       "</table>\n",
       "<p>5 rows × 6118 columns</p>\n",
       "</div>"
      ],
      "text/plain": [
       "              ap_1  ap_2  ap_3  ap_4  ap_5  ap_6  ap_7  ap_8  ap_9  ap_10  \\\n",
       "CHEMBL405042     0     0     0     0     0     0     0     0     0      0   \n",
       "CHEMBL258805     0     0     0     0     0     0     0     0     0      0   \n",
       "CHEMBL318485     1     0     0     0     0     0     0     0     0      0   \n",
       "CHEMBL260417     0     0     0     0     0     0     0     0     0      0   \n",
       "CHEMBL101557     1     0     0     0     0     0     0     0     0      0   \n",
       "\n",
       "              ...  tt_2031  tt_2032  tt_2033  tt_2034  tt_2035  tt_2036  \\\n",
       "CHEMBL405042  ...        0        0        0        0        0        0   \n",
       "CHEMBL258805  ...        0        0        0        0        0        0   \n",
       "CHEMBL318485  ...        0        0        0        0        0        0   \n",
       "CHEMBL260417  ...        0        0        0        0        0        0   \n",
       "CHEMBL101557  ...        0        0        0        0        0        0   \n",
       "\n",
       "              tt_2037  tt_2038  tt_2039  target  \n",
       "CHEMBL405042        0        0        0       1  \n",
       "CHEMBL258805        0        0        0       1  \n",
       "CHEMBL318485        0        1        0       0  \n",
       "CHEMBL260417        0        0        0       1  \n",
       "CHEMBL101557        0        1        0       0  \n",
       "\n",
       "[5 rows x 6118 columns]"
      ]
     },
     "execution_count": 17,
     "metadata": {},
     "output_type": "execute_result"
    }
   ],
   "source": [
    "# Read in the data, because we have row names in our dataset, use pd.read_csv('filename.csv',index_col=0)\n",
    "data = pd.read_csv('../exercises/data/cdk2.csv',index_col=0)\n",
    "# Take a look at the first rows of the dataframe\n",
    "data.head()"
   ]
  },
  {
   "cell_type": "code",
   "execution_count": 18,
   "metadata": {},
   "outputs": [
    {
     "name": "stdout",
     "output_type": "stream",
     "text": [
      "Rows, columns: (1890, 6118)\n"
     ]
    }
   ],
   "source": [
    "# Take a look at the number of rows and columns in the dataframe\n",
    "print(\"Rows, columns:\",data.shape)\n"
   ]
  },
  {
   "cell_type": "code",
   "execution_count": 14,
   "metadata": {},
   "outputs": [
    {
     "data": {
      "text/plain": [
       "<Axes: xlabel='target', ylabel='count'>"
      ]
     },
     "execution_count": 14,
     "metadata": {},
     "output_type": "execute_result"
    },
    {
     "data": {
      "image/png": "[encoded data removed]",
      "text/plain": [
       "<Figure size 640x480 with 1 Axes>"
      ]
     },
     "metadata": {},
     "output_type": "display_data"
    }
   ],
   "source": [
    "# Plot the counts of the target column using  a seaborn countplot\n",
    "sns.countplot(data, x=\"target\")"
   ]
  },
  {
   "cell_type": "code",
   "execution_count": 15,
   "metadata": {},
   "outputs": [
    {
     "data": {
      "text/plain": [
       "<Axes: xlabel='ap_1', ylabel='count'>"
      ]
     },
     "execution_count": 15,
     "metadata": {},
     "output_type": "execute_result"
    },
    {
     "data": {
      "image/png": "[encoded data removed]",
      "text/plain": [
       "<Figure size 640x480 with 1 Axes>"
      ]
     },
     "metadata": {},
     "output_type": "display_data"
    }
   ],
   "source": [
    "# Plot a countplot of the first feature column (ap_1)\n",
    "sns.countplot(data, x=\"ap_1\")"
   ]
  },
  {
   "cell_type": "markdown",
   "metadata": {},
   "source": [
    "**What is noteworthy of the plot above?**\n",
    "\n"
   ]
  },
  {
   "cell_type": "markdown",
   "metadata": {},
   "source": [
    "**Notes:**\n",
    "Due to the amount of columns, a df.describe() will not show you a lot of information.\n",
    "\n",
    "Pairplots and corrplots would be gigantic and also not very informative due to it being sparse data.\n",
    "\n",
    "Removing outliers would not be a good idea, since a lot of the values that are different from 0 would already be considered outliers, whilst these are just the informative things.\n",
    "    "
   ]
  },
  {
   "cell_type": "code",
   "execution_count": 16,
   "metadata": {},
   "outputs": [],
   "source": [
    "# Split into features and targets\n",
    "X=data.drop(\"target\",axis=1)\n",
    "y=data[\"target\"]"
   ]
  },
  {
   "cell_type": "code",
   "execution_count": 17,
   "metadata": {},
   "outputs": [],
   "source": [
    "# Split into training and test set. Keep +-20% as a test_set\n",
    "X_train, X_test, y_train, y_test = train_test_split(X,y,test_size=0.2,random_state=4)"
   ]
  },
  {
   "cell_type": "code",
   "execution_count": 18,
   "metadata": {},
   "outputs": [
    {
     "name": "stdout",
     "output_type": "stream",
     "text": [
      "Test score: 0.7698412698412699\n"
     ]
    }
   ],
   "source": [
    "# Create a multinomial naive bayes classifier\n",
    "model = MultinomialNB(alpha=1)\n",
    "\n",
    "# Fit the training data\n",
    "model.fit(X_train,y_train)\n",
    "\n",
    "# Show the score of the test data\n",
    "print(\"Test score:\",model.score(X_test,y_test))"
   ]
  },
  {
   "cell_type": "code",
   "execution_count": 19,
   "metadata": {},
   "outputs": [
    {
     "name": "stdout",
     "output_type": "stream",
     "text": [
      "Prediction [1 0 0 ... 0 1 0]\n",
      "The actual class is: 1 . The predicted class is: [0]\n",
      "[[ 90  19]\n",
      " [ 68 201]]\n",
      "              precision    recall  f1-score   support\n",
      "\n",
      "           0       0.57      0.83      0.67       109\n",
      "           1       0.91      0.75      0.82       269\n",
      "\n",
      "    accuracy                           0.77       378\n",
      "   macro avg       0.74      0.79      0.75       378\n",
      "weighted avg       0.81      0.77      0.78       378\n",
      "\n"
     ]
    },
    {
     "name": "stderr",
     "output_type": "stream",
     "text": [
      "/home/guest/miniconda3/envs/bit07/lib/python3.12/site-packages/sklearn/base.py:493: UserWarning: X does not have valid feature names, but MultinomialNB was fitted with feature names\n",
      "  warnings.warn(\n"
     ]
    }
   ],
   "source": [
    "# Predict values for the test set\n",
    "print(\"Prediction\",X_test.values[0])\n",
    "print(\"The actual class is:\",y_test.values[0], \". The predicted class is:\",model.predict(X_test.values[0].reshape(1,-1)))\n",
    "# Print a confusion matrix and classification report\n",
    "y_pred = model.predict(X_test)\n",
    "\n",
    "print(confusion_matrix(y_test,y_pred))\n",
    "print(classification_report(y_test,y_pred))"
   ]
  },
  {
   "cell_type": "code",
   "execution_count": 20,
   "metadata": {},
   "outputs": [
    {
     "name": "stdout",
     "output_type": "stream",
     "text": [
      "accuracy on the test set :0.9047619047619048\n",
      "accuracy on the training set: 0.9973544973544973\n",
      "================================================================================\n",
      "[[ 85  24]\n",
      " [ 12 257]]\n",
      "================================================================================\n",
      "              precision    recall  f1-score   support\n",
      "\n",
      "           0       0.88      0.78      0.83       109\n",
      "           1       0.91      0.96      0.93       269\n",
      "\n",
      "    accuracy                           0.90       378\n",
      "   macro avg       0.90      0.87      0.88       378\n",
      "weighted avg       0.90      0.90      0.90       378\n",
      "\n"
     ]
    }
   ],
   "source": [
    "# Train a logistic regression model on the data and test it as you did for the naive bayes model\n",
    "scaler = StandardScaler()\n",
    "\n",
    "X_train_scaled = scaler.fit_transform(X_train)\n",
    "X_test_scaled = scaler.transform(X_test)\n",
    "\n",
    "logreg_model=LogisticRegression( C=1)\n",
    "logreg_model.fit(X_train_scaled, y_train)\n",
    "\n",
    "y_pred_test = logreg_model.predict(X_test_scaled)\n",
    "y_predict_train = logreg_model.predict(X_train_scaled)\n",
    "\n",
    "print(f\"accuracy on the test set :{logreg_model.score(X_test_scaled, y_test)}\")\n",
    "print(f\"accuracy on the training set: {logreg_model.score(X_train_scaled, y_train)}\")\n",
    "print(\"=\"*80)\n",
    "\n",
    "y_pred = logreg_model.predict(X_test_scaled)\n",
    "\n",
    "print(confusion_matrix(y_test,y_pred))\n",
    "print(\"=\"*80)\n",
    "\n",
    "print(classification_report(y_test,y_pred))"
   ]
  },
  {
   "cell_type": "markdown",
   "metadata": {},
   "source": [
    "Also try and play with the hyperparameters a bit\n",
    "\n",
    "## Conclusion\n",
    "**What can we conclude regarding the metrics of both models**\n",
    "\n",
    "\n",
    "**What can we conclude regarding the time it takes to train the model?**\n",
    "\n"
   ]
  },
  {
   "cell_type": "markdown",
   "metadata": {},
   "source": [
    "# MNIST dataset\n",
    "MNIST is the \"hello world\" of AI.\n",
    "\n",
    "MNIST is a dataset containing a lot of handwritten digits. The goal is to correctly identify the written digit from the image. There is a lot of different sets and subsets available online. The data that we will be using is coming from\n",
    "https://www.kaggle.com/c/digit-recognizer/data\n",
    "\n",
    "Each image contains 28x28 pixels => 784 values between 0 (black) and 255 (white)\n",
    "\n",
    "Some initial code is given as to show you how to display the images"
   ]
  },
  {
   "cell_type": "code",
   "execution_count": 5,
   "metadata": {},
   "outputs": [],
   "source": [
    "# Read in the dataset\n",
    "df = pd.read_csv(\"data/MNIST.csv\")"
   ]
  },
  {
   "cell_type": "code",
   "execution_count": 6,
   "metadata": {},
   "outputs": [
    {
     "data": {
      "text/html": [
       "<div>\n",
       "<style scoped>\n",
       "    .dataframe tbody tr th:only-of-type {\n",
       "        vertical-align: middle;\n",
       "    }\n",
       "\n",
       "    .dataframe tbody tr th {\n",
       "        vertical-align: top;\n",
       "    }\n",
       "\n",
       "    .dataframe thead th {\n",
       "        text-align: right;\n",
       "    }\n",
       "</style>\n",
       "<table border=\"1\" class=\"dataframe\">\n",
       "  <thead>\n",
       "    <tr style=\"text-align: right;\">\n",
       "      <th></th>\n",
       "      <th>label</th>\n",
       "      <th>pixel0</th>\n",
       "      <th>pixel1</th>\n",
       "      <th>pixel2</th>\n",
       "      <th>pixel3</th>\n",
       "      <th>pixel4</th>\n",
       "      <th>pixel5</th>\n",
       "      <th>pixel6</th>\n",
       "      <th>pixel7</th>\n",
       "      <th>pixel8</th>\n",
       "      <th>...</th>\n",
       "      <th>pixel774</th>\n",
       "      <th>pixel775</th>\n",
       "      <th>pixel776</th>\n",
       "      <th>pixel777</th>\n",
       "      <th>pixel778</th>\n",
       "      <th>pixel779</th>\n",
       "      <th>pixel780</th>\n",
       "      <th>pixel781</th>\n",
       "      <th>pixel782</th>\n",
       "      <th>pixel783</th>\n",
       "    </tr>\n",
       "  </thead>\n",
       "  <tbody>\n",
       "    <tr>\n",
       "      <th>0</th>\n",
       "      <td>1</td>\n",
       "      <td>0</td>\n",
       "      <td>0</td>\n",
       "      <td>0</td>\n",
       "      <td>0</td>\n",
       "      <td>0</td>\n",
       "      <td>0</td>\n",
       "      <td>0</td>\n",
       "      <td>0</td>\n",
       "      <td>0</td>\n",
       "      <td>...</td>\n",
       "      <td>0</td>\n",
       "      <td>0</td>\n",
       "      <td>0</td>\n",
       "      <td>0</td>\n",
       "      <td>0</td>\n",
       "      <td>0</td>\n",
       "      <td>0</td>\n",
       "      <td>0</td>\n",
       "      <td>0</td>\n",
       "      <td>0</td>\n",
       "    </tr>\n",
       "    <tr>\n",
       "      <th>1</th>\n",
       "      <td>0</td>\n",
       "      <td>0</td>\n",
       "      <td>0</td>\n",
       "      <td>0</td>\n",
       "      <td>0</td>\n",
       "      <td>0</td>\n",
       "      <td>0</td>\n",
       "      <td>0</td>\n",
       "      <td>0</td>\n",
       "      <td>0</td>\n",
       "      <td>...</td>\n",
       "      <td>0</td>\n",
       "      <td>0</td>\n",
       "      <td>0</td>\n",
       "      <td>0</td>\n",
       "      <td>0</td>\n",
       "      <td>0</td>\n",
       "      <td>0</td>\n",
       "      <td>0</td>\n",
       "      <td>0</td>\n",
       "      <td>0</td>\n",
       "    </tr>\n",
       "    <tr>\n",
       "      <th>2</th>\n",
       "      <td>1</td>\n",
       "      <td>0</td>\n",
       "      <td>0</td>\n",
       "      <td>0</td>\n",
       "      <td>0</td>\n",
       "      <td>0</td>\n",
       "      <td>0</td>\n",
       "      <td>0</td>\n",
       "      <td>0</td>\n",
       "      <td>0</td>\n",
       "      <td>...</td>\n",
       "      <td>0</td>\n",
       "      <td>0</td>\n",
       "      <td>0</td>\n",
       "      <td>0</td>\n",
       "      <td>0</td>\n",
       "      <td>0</td>\n",
       "      <td>0</td>\n",
       "      <td>0</td>\n",
       "      <td>0</td>\n",
       "      <td>0</td>\n",
       "    </tr>\n",
       "    <tr>\n",
       "      <th>3</th>\n",
       "      <td>4</td>\n",
       "      <td>0</td>\n",
       "      <td>0</td>\n",
       "      <td>0</td>\n",
       "      <td>0</td>\n",
       "      <td>0</td>\n",
       "      <td>0</td>\n",
       "      <td>0</td>\n",
       "      <td>0</td>\n",
       "      <td>0</td>\n",
       "      <td>...</td>\n",
       "      <td>0</td>\n",
       "      <td>0</td>\n",
       "      <td>0</td>\n",
       "      <td>0</td>\n",
       "      <td>0</td>\n",
       "      <td>0</td>\n",
       "      <td>0</td>\n",
       "      <td>0</td>\n",
       "      <td>0</td>\n",
       "      <td>0</td>\n",
       "    </tr>\n",
       "    <tr>\n",
       "      <th>4</th>\n",
       "      <td>0</td>\n",
       "      <td>0</td>\n",
       "      <td>0</td>\n",
       "      <td>0</td>\n",
       "      <td>0</td>\n",
       "      <td>0</td>\n",
       "      <td>0</td>\n",
       "      <td>0</td>\n",
       "      <td>0</td>\n",
       "      <td>0</td>\n",
       "      <td>...</td>\n",
       "      <td>0</td>\n",
       "      <td>0</td>\n",
       "      <td>0</td>\n",
       "      <td>0</td>\n",
       "      <td>0</td>\n",
       "      <td>0</td>\n",
       "      <td>0</td>\n",
       "      <td>0</td>\n",
       "      <td>0</td>\n",
       "      <td>0</td>\n",
       "    </tr>\n",
       "  </tbody>\n",
       "</table>\n",
       "<p>5 rows × 785 columns</p>\n",
       "</div>"
      ],
      "text/plain": [
       "   label  pixel0  pixel1  pixel2  pixel3  pixel4  pixel5  pixel6  pixel7  \\\n",
       "0      1       0       0       0       0       0       0       0       0   \n",
       "1      0       0       0       0       0       0       0       0       0   \n",
       "2      1       0       0       0       0       0       0       0       0   \n",
       "3      4       0       0       0       0       0       0       0       0   \n",
       "4      0       0       0       0       0       0       0       0       0   \n",
       "\n",
       "   pixel8  ...  pixel774  pixel775  pixel776  pixel777  pixel778  pixel779  \\\n",
       "0       0  ...         0         0         0         0         0         0   \n",
       "1       0  ...         0         0         0         0         0         0   \n",
       "2       0  ...         0         0         0         0         0         0   \n",
       "3       0  ...         0         0         0         0         0         0   \n",
       "4       0  ...         0         0         0         0         0         0   \n",
       "\n",
       "   pixel780  pixel781  pixel782  pixel783  \n",
       "0         0         0         0         0  \n",
       "1         0         0         0         0  \n",
       "2         0         0         0         0  \n",
       "3         0         0         0         0  \n",
       "4         0         0         0         0  \n",
       "\n",
       "[5 rows x 785 columns]"
      ]
     },
     "execution_count": 6,
     "metadata": {},
     "output_type": "execute_result"
    }
   ],
   "source": [
    "# Take a look at the first rows of the dataset\n",
    "df.head()"
   ]
  },
  {
   "cell_type": "code",
   "execution_count": 7,
   "metadata": {},
   "outputs": [
    {
     "data": {
      "text/plain": [
       "<Axes: xlabel='label', ylabel='count'>"
      ]
     },
     "execution_count": 7,
     "metadata": {},
     "output_type": "execute_result"
    },
    {
     "data": {
      "image/png": "[encoded data removed]",
      "text/plain": [
       "<Figure size 640x480 with 1 Axes>"
      ]
     },
     "metadata": {},
     "output_type": "display_data"
    }
   ],
   "source": [
    "# Countplot of the numbers\n",
    "sns.countplot(x=\"label\",data=df)"
   ]
  },
  {
   "cell_type": "code",
   "execution_count": 8,
   "metadata": {},
   "outputs": [],
   "source": [
    "# Split into features and targets\n",
    "X = df.drop(\"label\",axis=1)\n",
    "y = df.label"
   ]
  },
  {
   "cell_type": "code",
   "execution_count": 9,
   "metadata": {},
   "outputs": [
    {
     "name": "stdout",
     "output_type": "stream",
     "text": [
      "Label: 4\n"
     ]
    },
    {
     "data": {
      "image/png": "[encoded data removed]",
      "text/plain": [
       "<Figure size 640x480 with 1 Axes>"
      ]
     },
     "metadata": {},
     "output_type": "display_data"
    }
   ],
   "source": [
    "# Change this value to see another sample\n",
    "row_num_X = 3\n",
    "\n",
    "# Extract the image from X\n",
    "single_image= X.iloc[row_num_X,:]  ## Row row_num_X, column all (:)\n",
    "\n",
    "# Convert the single array of 784 pixels into nested arrays as to creat a 28x28 array\n",
    "# [p0,p1,p2,p3,...,p784] becomes\n",
    "\n",
    "# [[p0,p1,p2,p3,...,p27]\n",
    "#  [p28,p29,p30,    ...]\n",
    "#  ...\n",
    "#  [          ..., p783]]\n",
    "single_image_to_28x28 = single_image.values.reshape(28,28)\n",
    "\n",
    "# Show the image\n",
    "plt.imshow(single_image_to_28x28,cmap='Greys')\n",
    "# Also print the corresponding label\n",
    "print(f\"Label: {y[row_num_X]}\")"
   ]
  },
  {
   "cell_type": "code",
   "execution_count": 10,
   "metadata": {},
   "outputs": [],
   "source": [
    "# Split into training and test set. Keep +-20% as a test_set\n",
    "X_train, X_test, y_train, y_test = train_test_split(X,y,test_size=0.2,random_state=4)"
   ]
  },
  {
   "cell_type": "code",
   "execution_count": 11,
   "metadata": {},
   "outputs": [
    {
     "name": "stdout",
     "output_type": "stream",
     "text": [
      "Train score: 0.8282440476190476\n",
      "Test score: 0.8192857142857143\n",
      "\n"
     ]
    }
   ],
   "source": [
    "# Train a multinomial naive bayes model on the data and test it using the test data\n",
    "# Create an empty multinomial naive bayes model\n",
    "model = MultinomialNB(alpha=1)\n",
    "\n",
    "# Fit the model\n",
    "model.fit(X_train,y_train)\n",
    "\n",
    "# Print both the score for the training and the test set\n",
    "print(\"Train score:\",model.score(X_train,y_train))\n",
    "print(\"Test score:\",model.score(X_test,y_test))\n",
    "\n",
    "print()\n",
    "\n"
   ]
  },
  {
   "cell_type": "code",
   "execution_count": 12,
   "metadata": {},
   "outputs": [
    {
     "name": "stdout",
     "output_type": "stream",
     "text": [
      "Prediction [  0   0   0   0   0   0   0   0   0   0   0   0   0   0   0   0   0   0\n",
      "   0   0   0   0   0   0   0   0   0   0   0   0   0   0   0   0   0   0\n",
      "   0   0   0   0   0   0   0   0   0   0   0   0   0   0   0   0   0   0\n",
      "   0   0   0   0   0   0   0   0   0   0   0   0   0   0   0   0   0   0\n",
      "   0   0   0   0   0   0   0   0   0   0   0   0   0   0   0   0   0   0\n",
      "   0   0   0   0   0   0   0   0   0   0   0   0   0   0   0   0   0   0\n",
      "   0   0   0   0   0   0   0   0   0   0   0   0   0   0   0   0   0   0\n",
      "  33 221 255 231  41   0   0   0   0   0   0   0   0   0   0   0   0   0\n",
      "   0   0   0   0   0   0   0   0   0  71 249 253 253 253 102 118  45   0\n",
      "   0   0   0   0   0   0   0   0   0   0   0   0   0   0   0   0   0   0\n",
      "   0 129 253 253 230  52  44 253 246 155   0   0   0   0   0   0   0   0\n",
      "   0   0   0   0   0   0   0   0   0   0 127 250 253 229  51   0   3 169\n",
      " 253 252 155   0   0   0   0   0   0   0   0   0   0   0   0   0   0   0\n",
      "   0   0 209 253 253  77   0   0   0  46 253 253 240   0   0   0   0   0\n",
      "   0   0   0   0   0   0   0   0   0   0  34 135 248 253 196   8   0   0\n",
      "   0   5 168 253 240   0   0   0   0   0   0   0   0   0   0   0   0   0\n",
      "   0   0 135 253 253 229  58   0   0   0   0   0 156 253 244  39   0   0\n",
      "   0   0   0   0   0   0   0   0   0   0   0  71 232 253 253 141   0   0\n",
      "   0   0   0  11 186 253 242  21   0   0   0   0   0   0   0   0   0   0\n",
      "   0   0  30 235 253 253 153  11   0   0   0   0   0  33 253 253 240   0\n",
      "   0   0   0   0   0   0   0   0   0   0   0  29 143 253 253 231  34   0\n",
      "   0   0   0   0   0  67 253 253 206   0   0   0   0   0   0   0   0   0\n",
      "   0   0   0 112 253 253 232  63   0   0   0   0   0   0  60 230 253 249\n",
      "  85   0   0   0   0   0   0   0   0   0   0   0   0 205 253 253 162   0\n",
      "   0   0   0   0   0  60 230 253 253 207   0   0   0   0   0   0   0   0\n",
      "   0   0   0   0  45 244 253 253  72   0   0   0   0   0  37 230 253 253\n",
      " 248  85   0   0   0   0   0   0   0   0   0   0   0   0 248 253 253 167\n",
      "  11   0   0   0   0  10 150 253 253 248 125   0   0   0   0   0   0   0\n",
      "   0   0   0   0   0   0 248 253 253  25   0   0   0  10  33 151 253 253\n",
      " 248 126   0   0   0   0   0   0   0   0   0   0   0   0   0   0 167 253\n",
      " 253  39   0   9  27 158 253 253 253 248 125   0   0   0   0   0   0   0\n",
      "   0   0   0   0   0   0   0   0 109 252 253 213 150 184 253 253 253 253\n",
      " 249 125   0   0   0   0   0   0   0   0   0   0   0   0   0   0   0   0\n",
      "   0 167 253 253 253 253 253 253 253 243 124   0   0   0   0   0   0   0\n",
      "   0   0   0   0   0   0   0   0   0   0   0  51 237 253 253 253 253 251\n",
      " 213  30   0   0   0   0   0   0   0   0   0   0   0   0   0   0   0   0\n",
      "   0   0   0   0   0 111 237 209 123  89   0   0   0   0   0   0   0   0\n",
      "   0   0   0   0   0   0   0   0   0   0   0   0   0   0   0   0   0   0\n",
      "   0   0   0   0   0   0   0   0   0   0   0   0   0   0   0   0   0   0\n",
      "   0   0   0   0   0   0   0   0   0   0   0   0   0   0   0   0   0   0\n",
      "   0   0   0   0   0   0   0   0   0   0   0   0   0   0   0   0   0   0\n",
      "   0   0   0   0   0   0   0   0   0   0   0   0   0   0   0   0   0   0\n",
      "   0   0   0   0   0   0   0   0   0   0   0   0   0   0   0   0   0   0\n",
      "   0   0   0   0   0   0   0   0   0   0]\n",
      "The actual class is: 0 . The predicted class is: [0]\n",
      "[[764   0   4   3   0  13  16   0  33   1]\n",
      " [  0 846   8   4   1   5   3   2  37   1]\n",
      " [ 11   8 691  31   8   2  43   6  41   2]\n",
      " [  4  16  50 675   2  18  15   8  39  24]\n",
      " [  2   2   6   1 541   1  18   1  28 161]\n",
      " [ 26   5  10 100  16 477  21   0  74  24]\n",
      " [ 10  17   9   0   7  13 787   0  15   0]\n",
      " [  8  16  12   2  25   0   0 733  28  74]\n",
      " [  2  43  12  41  12  30   5   4 625  29]\n",
      " [  9   8   3  15  53   5   0  22  34 743]]\n",
      "              precision    recall  f1-score   support\n",
      "\n",
      "           0       0.91      0.92      0.91       834\n",
      "           1       0.88      0.93      0.91       907\n",
      "           2       0.86      0.82      0.84       843\n",
      "           3       0.77      0.79      0.78       851\n",
      "           4       0.81      0.71      0.76       761\n",
      "           5       0.85      0.63      0.72       753\n",
      "           6       0.87      0.92      0.89       858\n",
      "           7       0.94      0.82      0.88       898\n",
      "           8       0.66      0.78      0.71       803\n",
      "           9       0.70      0.83      0.76       892\n",
      "\n",
      "    accuracy                           0.82      8400\n",
      "   macro avg       0.83      0.82      0.82      8400\n",
      "weighted avg       0.83      0.82      0.82      8400\n",
      "\n"
     ]
    },
    {
     "name": "stderr",
     "output_type": "stream",
     "text": [
      "/home/guest/miniconda3/envs/bit07/lib/python3.12/site-packages/sklearn/base.py:493: UserWarning: X does not have valid feature names, but MultinomialNB was fitted with feature names\n",
      "  warnings.warn(\n"
     ]
    }
   ],
   "source": [
    "# Predict values for the test set\n",
    "print(\"Prediction\",X_test.values[0])\n",
    "print(\"The actual class is:\",y_test.values[0], \". The predicted class is:\",model.predict(X_test.values[0].reshape(1,-1)))\n",
    "# Print a confusion matrix and classification report\n",
    "y_pred = model.predict(X_test)\n",
    "\n",
    "print(confusion_matrix(y_test,y_pred))\n",
    "print(classification_report(y_test,y_pred))\n",
    "\n"
   ]
  },
  {
   "cell_type": "code",
   "execution_count": 13,
   "metadata": {},
   "outputs": [
    {
     "name": "stderr",
     "output_type": "stream",
     "text": [
      "/home/guest/miniconda3/envs/bit07/lib/python3.12/site-packages/sklearn/linear_model/_logistic.py:469: ConvergenceWarning: lbfgs failed to converge (status=1):\n",
      "STOP: TOTAL NO. of ITERATIONS REACHED LIMIT.\n",
      "\n",
      "Increase the number of iterations (max_iter) or scale the data as shown in:\n",
      "    https://scikit-learn.org/stable/modules/preprocessing.html\n",
      "Please also refer to the documentation for alternative solver options:\n",
      "    https://scikit-learn.org/stable/modules/linear_model.html#logistic-regression\n",
      "  n_iter_i = _check_optimize_result(\n"
     ]
    },
    {
     "name": "stdout",
     "output_type": "stream",
     "text": [
      "accuracy on the test set :0.9013095238095238\n",
      "accuracy on the training set: 0.9560714285714286\n",
      "================================================================================\n",
      "[[802   0   5   3   3   8   6   2   5   0]\n",
      " [  0 878   9   4   2   3   1   4   5   1]\n",
      " [  8  13 736  28  10   8   9   8  15   8]\n",
      " [  2   3  29 727   0  37   6  11  22  14]\n",
      " [  1   6   9   3 687   2  14   8   5  26]\n",
      " [ 12   6  10  29   8 633  22   4  21   8]\n",
      " [  7   5  10   2  12  10 808   1   3   0]\n",
      " [  4   2  14   3   7   1   1 817   4  45]\n",
      " [  4  17  10  21   5  20   9   4 705   8]\n",
      " [  7   4   3  16  23  11   0  33  17 778]]\n",
      "================================================================================\n",
      "              precision    recall  f1-score   support\n",
      "\n",
      "           0       0.95      0.96      0.95       834\n",
      "           1       0.94      0.97      0.95       907\n",
      "           2       0.88      0.87      0.88       843\n",
      "           3       0.87      0.85      0.86       851\n",
      "           4       0.91      0.90      0.91       761\n",
      "           5       0.86      0.84      0.85       753\n",
      "           6       0.92      0.94      0.93       858\n",
      "           7       0.92      0.91      0.91       898\n",
      "           8       0.88      0.88      0.88       803\n",
      "           9       0.88      0.87      0.87       892\n",
      "\n",
      "    accuracy                           0.90      8400\n",
      "   macro avg       0.90      0.90      0.90      8400\n",
      "weighted avg       0.90      0.90      0.90      8400\n",
      "\n"
     ]
    }
   ],
   "source": [
    "# Also try it using a logistic regression model\n",
    "scaler = StandardScaler()\n",
    "\n",
    "X_train_scaled = scaler.fit_transform(X_train)\n",
    "X_test_scaled = scaler.transform(X_test)\n",
    "\n",
    "logreg_model=LogisticRegression( C=1)\n",
    "logreg_model.fit(X_train_scaled, y_train)\n",
    "\n",
    "y_pred_test = logreg_model.predict(X_test_scaled)\n",
    "y_predict_train = logreg_model.predict(X_train_scaled)\n",
    "\n",
    "print(f\"accuracy on the test set :{logreg_model.score(X_test_scaled, y_test)}\")\n",
    "print(f\"accuracy on the training set: {logreg_model.score(X_train_scaled, y_train)}\")\n",
    "print(\"=\"*80)\n",
    "\n",
    "y_pred = logreg_model.predict(X_test_scaled)\n",
    "\n",
    "print(confusion_matrix(y_test,y_pred))\n",
    "print(\"=\"*80)\n",
    "\n",
    "print(classification_report(y_test,y_pred))"
   ]
  },
  {
   "cell_type": "markdown",
   "metadata": {},
   "source": [
    "Following code let's you draw a number and predict it using your model\n",
    "\n",
    "The model should be called 'model' or be renamed in the code below\n",
    "\n",
    "Note that you need packages pillow and tkinter\n",
    "\n",
    "`conda install pillow tk` or `pip3 install pillow tk` or `sudo dnf install python3-pillow python3-tkinter`"
   ]
  },
  {
   "cell_type": "code",
   "execution_count": 14,
   "metadata": {},
   "outputs": [
    {
     "name": "stderr",
     "output_type": "stream",
     "text": [
      "/home/guest/miniconda3/envs/bit07/lib/python3.12/site-packages/sklearn/base.py:493: UserWarning: X does not have valid feature names, but MultinomialNB was fitted with feature names\n",
      "  warnings.warn(\n"
     ]
    },
    {
     "name": "stdout",
     "output_type": "stream",
     "text": [
      "[6]\n"
     ]
    },
    {
     "name": "stderr",
     "output_type": "stream",
     "text": [
      "/home/guest/miniconda3/envs/bit07/lib/python3.12/site-packages/sklearn/base.py:493: UserWarning: X does not have valid feature names, but MultinomialNB was fitted with feature names\n",
      "  warnings.warn(\n"
     ]
    },
    {
     "name": "stdout",
     "output_type": "stream",
     "text": [
      "[7]\n"
     ]
    },
    {
     "name": "stderr",
     "output_type": "stream",
     "text": [
      "/home/guest/miniconda3/envs/bit07/lib/python3.12/site-packages/sklearn/base.py:493: UserWarning: X does not have valid feature names, but MultinomialNB was fitted with feature names\n",
      "  warnings.warn(\n"
     ]
    },
    {
     "name": "stdout",
     "output_type": "stream",
     "text": [
      "[3]\n"
     ]
    },
    {
     "name": "stderr",
     "output_type": "stream",
     "text": [
      "/home/guest/miniconda3/envs/bit07/lib/python3.12/site-packages/sklearn/base.py:493: UserWarning: X does not have valid feature names, but MultinomialNB was fitted with feature names\n",
      "  warnings.warn(\n"
     ]
    },
    {
     "name": "stdout",
     "output_type": "stream",
     "text": [
      "[2]\n"
     ]
    },
    {
     "name": "stderr",
     "output_type": "stream",
     "text": [
      "/home/guest/miniconda3/envs/bit07/lib/python3.12/site-packages/sklearn/base.py:493: UserWarning: X does not have valid feature names, but MultinomialNB was fitted with feature names\n",
      "  warnings.warn(\n"
     ]
    },
    {
     "name": "stdout",
     "output_type": "stream",
     "text": [
      "[2]\n"
     ]
    },
    {
     "name": "stderr",
     "output_type": "stream",
     "text": [
      "/home/guest/miniconda3/envs/bit07/lib/python3.12/site-packages/sklearn/base.py:493: UserWarning: X does not have valid feature names, but MultinomialNB was fitted with feature names\n",
      "  warnings.warn(\n"
     ]
    },
    {
     "name": "stdout",
     "output_type": "stream",
     "text": [
      "[2]\n"
     ]
    },
    {
     "name": "stderr",
     "output_type": "stream",
     "text": [
      "/home/guest/miniconda3/envs/bit07/lib/python3.12/site-packages/sklearn/base.py:493: UserWarning: X does not have valid feature names, but MultinomialNB was fitted with feature names\n",
      "  warnings.warn(\n"
     ]
    },
    {
     "name": "stdout",
     "output_type": "stream",
     "text": [
      "[8]\n"
     ]
    },
    {
     "data": {
      "image/png": "[encoded data removed]",
      "text/plain": [
       "<Figure size 640x480 with 1 Axes>"
      ]
     },
     "metadata": {},
     "output_type": "display_data"
    }
   ],
   "source": [
    "from PIL import ImageTk, Image, ImageDraw, ImageChops\n",
    "import PIL\n",
    "from tkinter import *\n",
    "\n",
    "width = 280  # canvas width\n",
    "height = 280 # canvas height\n",
    "center = height//2\n",
    "white = (255) # canvas back\n",
    "\n",
    "def predict():\n",
    "    op2 = ImageChops.invert(output_image)\n",
    "    op2=op2.resize((28,28),resample=3)\n",
    "    # Show the image\n",
    "    plt.imshow(op2,cmap='Greys')\n",
    "    op2_array = np.asarray(op2).reshape(1,-1)\n",
    "    print(model.predict(op2_array))\n",
    "    \n",
    "def clear():\n",
    "    plt.close()\n",
    "    canvas.delete(\"all\")\n",
    "    draw.rectangle((0,0,width,height),fill=255)\n",
    "    \n",
    "def paint(event):\n",
    "    x1, y1 = (event.x - 1), (event.y - 1)\n",
    "    x2, y2 = (event.x + 1), (event.y + 1)\n",
    "    canvas.create_oval(x1, y1, x2, y2, fill=\"black\",width=25)\n",
    "    draw.line([x1, y1, x2, y2],fill=\"black\",width=25)\n",
    "\n",
    "master = Tk()\n",
    "\n",
    "# create a tkinter canvas to draw on\n",
    "canvas = Canvas(master, width=width, height=height, bg='white')\n",
    "canvas.pack()\n",
    "\n",
    "# create an empty PIL image and draw object to draw on\n",
    "output_image = PIL.Image.new(\"L\", (width, height), white)\n",
    "draw = ImageDraw.Draw(output_image)\n",
    "canvas.pack(expand=YES, fill=BOTH)\n",
    "canvas.bind(\"<B1-Motion>\", paint)\n",
    "\n",
    "# add a button to save the image\n",
    "button=Button(text=\"predict\",command=predict)\n",
    "button.pack()\n",
    "button=Button(text=\"clear\",command=clear)\n",
    "button.pack()\n",
    "\n",
    "master.mainloop()"
   ]
  },
  {
   "cell_type": "code",
   "execution_count": 15,
   "metadata": {},
   "outputs": [],
   "source": [
    "from PIL import ImageChops"
   ]
  },
  {
   "cell_type": "code",
   "execution_count": null,
   "metadata": {},
   "outputs": [],
   "source": []
  }
 ],
 "metadata": {
  "kernelspec": {
   "display_name": "Python 3 (ipykernel)",
   "language": "python",
   "name": "python3"
  },
  "language_info": {
   "codemirror_mode": {
    "name": "ipython",
    "version": 3
   },
   "file_extension": ".py",
   "mimetype": "text/x-python",
   "name": "python",
   "nbconvert_exporter": "python",
   "pygments_lexer": "ipython3",
   "version": "3.12.1"
  }
 },
 "nbformat": 4,
 "nbformat_minor": 4
}
