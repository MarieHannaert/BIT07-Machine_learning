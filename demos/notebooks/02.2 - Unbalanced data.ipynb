{
 "cells": [
  {
   "cell_type": "code",
   "execution_count": 1,
   "metadata": {},
   "outputs": [],
   "source": [
    "%matplotlib inline\n",
    "import matplotlib.pyplot as plt                        # To create plots\n",
    "import numpy as np                                     # To perform calculations quickly\n",
    "import pandas as pd                                    # To load in and manipulate data\n",
    "import seaborn as sns\n",
    "from sklearn.linear_model import LogisticRegression\n",
    "from sklearn.naive_bayes import MultinomialNB          # Naive bayes model\n",
    "from sklearn.model_selection import train_test_split   # Split up the data in a train and test set\n",
    "from sklearn.metrics import confusion_matrix,classification_report,roc_curve\n",
    "from ipywidgets import interact,widgets                # For interactive execution of code"
   ]
  },
  {
   "cell_type": "code",
   "execution_count": 2,
   "metadata": {},
   "outputs": [
    {
     "data": {
      "text/html": [
       "<div>\n",
       "<style scoped>\n",
       "    .dataframe tbody tr th:only-of-type {\n",
       "        vertical-align: middle;\n",
       "    }\n",
       "\n",
       "    .dataframe tbody tr th {\n",
       "        vertical-align: top;\n",
       "    }\n",
       "\n",
       "    .dataframe thead th {\n",
       "        text-align: right;\n",
       "    }\n",
       "</style>\n",
       "<table border=\"1\" class=\"dataframe\">\n",
       "  <thead>\n",
       "    <tr style=\"text-align: right;\">\n",
       "      <th></th>\n",
       "      <th>id</th>\n",
       "      <th>f1</th>\n",
       "      <th>f2</th>\n",
       "      <th>f3</th>\n",
       "      <th>f4</th>\n",
       "      <th>f5</th>\n",
       "      <th>f6</th>\n",
       "      <th>f7</th>\n",
       "      <th>f8</th>\n",
       "      <th>f9</th>\n",
       "      <th>...</th>\n",
       "      <th>f22</th>\n",
       "      <th>f23</th>\n",
       "      <th>f24</th>\n",
       "      <th>f25</th>\n",
       "      <th>f26</th>\n",
       "      <th>f27</th>\n",
       "      <th>f28</th>\n",
       "      <th>f29</th>\n",
       "      <th>f30</th>\n",
       "      <th>target</th>\n",
       "    </tr>\n",
       "  </thead>\n",
       "  <tbody>\n",
       "    <tr>\n",
       "      <th>0</th>\n",
       "      <td>1</td>\n",
       "      <td>1</td>\n",
       "      <td>17.2131</td>\n",
       "      <td>1</td>\n",
       "      <td>1</td>\n",
       "      <td>1</td>\n",
       "      <td>3</td>\n",
       "      <td>2</td>\n",
       "      <td>3</td>\n",
       "      <td>1</td>\n",
       "      <td>...</td>\n",
       "      <td>2250</td>\n",
       "      <td>1</td>\n",
       "      <td>1</td>\n",
       "      <td>1</td>\n",
       "      <td>9</td>\n",
       "      <td>1</td>\n",
       "      <td>40</td>\n",
       "      <td>13</td>\n",
       "      <td>32.766370</td>\n",
       "      <td>0</td>\n",
       "    </tr>\n",
       "    <tr>\n",
       "      <th>1</th>\n",
       "      <td>2</td>\n",
       "      <td>35</td>\n",
       "      <td>0.1747</td>\n",
       "      <td>1</td>\n",
       "      <td>1</td>\n",
       "      <td>2</td>\n",
       "      <td>1</td>\n",
       "      <td>1</td>\n",
       "      <td>2</td>\n",
       "      <td>2</td>\n",
       "      <td>...</td>\n",
       "      <td>3488</td>\n",
       "      <td>1</td>\n",
       "      <td>1</td>\n",
       "      <td>1</td>\n",
       "      <td>10</td>\n",
       "      <td>1</td>\n",
       "      <td>12</td>\n",
       "      <td>23</td>\n",
       "      <td>210.567669</td>\n",
       "      <td>0</td>\n",
       "    </tr>\n",
       "    <tr>\n",
       "      <th>2</th>\n",
       "      <td>3</td>\n",
       "      <td>1</td>\n",
       "      <td>4.4873</td>\n",
       "      <td>1</td>\n",
       "      <td>1</td>\n",
       "      <td>1</td>\n",
       "      <td>1</td>\n",
       "      <td>1</td>\n",
       "      <td>2</td>\n",
       "      <td>1</td>\n",
       "      <td>...</td>\n",
       "      <td>4050</td>\n",
       "      <td>1</td>\n",
       "      <td>1</td>\n",
       "      <td>1</td>\n",
       "      <td>9</td>\n",
       "      <td>1</td>\n",
       "      <td>36</td>\n",
       "      <td>7</td>\n",
       "      <td>9.380889</td>\n",
       "      <td>0</td>\n",
       "    </tr>\n",
       "    <tr>\n",
       "      <th>3</th>\n",
       "      <td>4</td>\n",
       "      <td>2</td>\n",
       "      <td>55.1508</td>\n",
       "      <td>2</td>\n",
       "      <td>1</td>\n",
       "      <td>4</td>\n",
       "      <td>8</td>\n",
       "      <td>2</td>\n",
       "      <td>2</td>\n",
       "      <td>1</td>\n",
       "      <td>...</td>\n",
       "      <td>2700</td>\n",
       "      <td>1</td>\n",
       "      <td>1</td>\n",
       "      <td>1</td>\n",
       "      <td>9</td>\n",
       "      <td>1</td>\n",
       "      <td>36</td>\n",
       "      <td>11</td>\n",
       "      <td>20.445923</td>\n",
       "      <td>1</td>\n",
       "    </tr>\n",
       "    <tr>\n",
       "      <th>4</th>\n",
       "      <td>5</td>\n",
       "      <td>10</td>\n",
       "      <td>0.0771</td>\n",
       "      <td>1</td>\n",
       "      <td>1</td>\n",
       "      <td>1</td>\n",
       "      <td>3</td>\n",
       "      <td>2</td>\n",
       "      <td>3</td>\n",
       "      <td>1</td>\n",
       "      <td>...</td>\n",
       "      <td>2970</td>\n",
       "      <td>1</td>\n",
       "      <td>1</td>\n",
       "      <td>1</td>\n",
       "      <td>12</td>\n",
       "      <td>1</td>\n",
       "      <td>36</td>\n",
       "      <td>10</td>\n",
       "      <td>36.247242</td>\n",
       "      <td>0</td>\n",
       "    </tr>\n",
       "  </tbody>\n",
       "</table>\n",
       "<p>5 rows × 32 columns</p>\n",
       "</div>"
      ],
      "text/plain": [
       "   id  f1       f2  f3  f4  f5  f6  f7  f8  f9  ...   f22  f23  f24  f25  f26  \\\n",
       "0   1   1  17.2131   1   1   1   3   2   3   1  ...  2250    1    1    1    9   \n",
       "1   2  35   0.1747   1   1   2   1   1   2   2  ...  3488    1    1    1   10   \n",
       "2   3   1   4.4873   1   1   1   1   1   2   1  ...  4050    1    1    1    9   \n",
       "3   4   2  55.1508   2   1   4   8   2   2   1  ...  2700    1    1    1    9   \n",
       "4   5  10   0.0771   1   1   1   3   2   3   1  ...  2970    1    1    1   12   \n",
       "\n",
       "   f27  f28  f29         f30  target  \n",
       "0    1   40   13   32.766370       0  \n",
       "1    1   12   23  210.567669       0  \n",
       "2    1   36    7    9.380889       0  \n",
       "3    1   36   11   20.445923       1  \n",
       "4    1   36   10   36.247242       0  \n",
       "\n",
       "[5 rows x 32 columns]"
      ]
     },
     "execution_count": 2,
     "metadata": {},
     "output_type": "execute_result"
    }
   ],
   "source": [
    "# Read in the data and show the first lines\n",
    "data = pd.read_csv(\"../data/unbalanced_dataset.csv\",sep=\";\",decimal=',')\n",
    "data.head()"
   ]
  },
  {
   "cell_type": "code",
   "execution_count": 3,
   "metadata": {},
   "outputs": [],
   "source": [
    "# Id is uninformative, so let's drop it\n",
    "data.drop(\"id\",axis=1,inplace=True)"
   ]
  },
  {
   "cell_type": "code",
   "execution_count": 4,
   "metadata": {},
   "outputs": [
    {
     "data": {
      "text/plain": [
       "<Axes: xlabel='target', ylabel='count'>"
      ]
     },
     "execution_count": 4,
     "metadata": {},
     "output_type": "execute_result"
    },
    {
     "data": {
      "image/png": "[encoded data removed]",
      "text/plain": [
       "<Figure size 640x480 with 1 Axes>"
      ]
     },
     "metadata": {},
     "output_type": "display_data"
    }
   ],
   "source": [
    "# Take a look at the distribution of the classes (target column)\n",
    "sns.countplot(x=data.target)"
   ]
  },
  {
   "cell_type": "code",
   "execution_count": 5,
   "metadata": {},
   "outputs": [],
   "source": [
    "# Split into features and targets\n",
    "X=data.drop(\"target\",axis=1)\n",
    "y=data.target\n",
    "\n",
    "# Split into training and testing set\n",
    "X_train,X_test,y_train,y_test = train_test_split(X,y,test_size=0.3)"
   ]
  },
  {
   "cell_type": "code",
   "execution_count": 6,
   "metadata": {},
   "outputs": [
    {
     "name": "stdout",
     "output_type": "stream",
     "text": [
      "0.8009950248756219\n",
      "[[804   1]\n",
      " [199   1]]\n",
      "              precision    recall  f1-score   support\n",
      "\n",
      "           0       0.80      1.00      0.89       805\n",
      "           1       0.50      0.01      0.01       200\n",
      "\n",
      "    accuracy                           0.80      1005\n",
      "   macro avg       0.65      0.50      0.45      1005\n",
      "weighted avg       0.74      0.80      0.71      1005\n",
      "\n"
     ]
    }
   ],
   "source": [
    "# Create a logistic regression model\n",
    "model=LogisticRegression(max_iter=10000)\n",
    "# Fit the model on our training data\n",
    "model.fit(X_train,y_train)\n",
    "\n",
    "# Print the score of the test set\n",
    "print(model.score(X_test,y_test))\n",
    "\n",
    "# Predict the classes of the test set\n",
    "y_pred=model.predict(X_test)\n",
    "\n",
    "#Print confusion matrix and classification report\n",
    "print(confusion_matrix(y_test,y_pred))\n",
    "print(classification_report(y_test,y_pred))"
   ]
  },
  {
   "cell_type": "markdown",
   "metadata": {},
   "source": [
    "## Discussion\n",
    "As we can see in the example above, almost all our test cases are classified as class '0'. \n",
    "\n",
    "This is due to the majority of our test cases being of class '0'. When classifying everything as class '0' you are already +80% correct!\n",
    "\n",
    "How can we solve this?\n",
    "\n",
    "- Add more samples of class '1' (collect more data)\n",
    "- Take only a subset of all class '0' samples so they correspond almost equally  (Undersampling)\n",
    "- Duplicate samples of class '1'  (Oversampling)\n",
    "- Choose another scoring system (e.g. f1-score)\n",
    "- Class-weight balancing\n",
    "- Data augmentation (e.g. SMOTE, ADASYN)\n",
    "\n",
    "Interesting to read:\n",
    "\n",
    "- https://towardsdatascience.com/having-an-imbalanced-dataset-here-is-how-you-can-solve-it-1640568947eb\n",
    "- https://machinelearningmastery.com/smote-oversampling-for-imbalanced-classification/\n",
    "\n",
    "<div><img src=\"../images/under_over_sampling.jpg\" width=\"700\"/></div>\n",
    "\n",
    "---\n",
    "<div><img src=\"../images/data_augmentation.png\" width=\"500\"/></div>"
   ]
  },
  {
   "cell_type": "markdown",
   "metadata": {},
   "source": [
    "A few of the techniques will be shown below. Feel free to try other techniques yourself\n",
    "\n",
    "### Undersampling\n",
    "\n",
    "A simple example of undersampling. Better ways exist, but generally this is not used."
   ]
  },
  {
   "cell_type": "code",
   "execution_count": 7,
   "metadata": {},
   "outputs": [
    {
     "name": "stdout",
     "output_type": "stream",
     "text": [
      "Training length class 0: 1900, Training length class 1: 442\n"
     ]
    },
    {
     "data": {
      "image/png": "[encoded data removed]",
      "text/plain": [
       "<Figure size 640x480 with 1 Axes>"
      ]
     },
     "metadata": {},
     "output_type": "display_data"
    },
    {
     "name": "stdout",
     "output_type": "stream",
     "text": [
      "0.6139303482587065\n",
      "[[516 289]\n",
      " [ 99 101]]\n",
      "              precision    recall  f1-score   support\n",
      "\n",
      "           0       0.84      0.64      0.73       805\n",
      "           1       0.26      0.51      0.34       200\n",
      "\n",
      "    accuracy                           0.61      1005\n",
      "   macro avg       0.55      0.57      0.53      1005\n",
      "weighted avg       0.72      0.61      0.65      1005\n",
      "\n"
     ]
    },
    {
     "name": "stderr",
     "output_type": "stream",
     "text": [
      "/home/guest/miniconda3/envs/bit07/lib/python3.12/site-packages/sklearn/linear_model/_logistic.py:469: ConvergenceWarning: lbfgs failed to converge (status=1):\n",
      "STOP: TOTAL NO. of ITERATIONS REACHED LIMIT.\n",
      "\n",
      "Increase the number of iterations (max_iter) or scale the data as shown in:\n",
      "    https://scikit-learn.org/stable/modules/preprocessing.html\n",
      "Please also refer to the documentation for alternative solver options:\n",
      "    https://scikit-learn.org/stable/modules/linear_model.html#logistic-regression\n",
      "  n_iter_i = _check_optimize_result(\n"
     ]
    }
   ],
   "source": [
    "print(f\"Training length class 0: {sum(y_train==0)}, Training length class 1: {sum(y_train==1)}\")\n",
    "\n",
    "# Take a subset of the training samples of class 0 based on the number of samples of class 1\n",
    "X_train_subset_class0 = X_train[y_train==0].iloc[:450]\n",
    "y_train_subset_class0 = y_train[y_train==0].iloc[:450]\n",
    "\n",
    "# Also take all class 1 samples\n",
    "X_train_class1 = X_train[y_train==1]\n",
    "y_train_class1 = y_train[y_train==1]\n",
    "\n",
    "# Combine them back into one dataframe (with same number of samples of class 0 and 1, in this case 454 for each)\n",
    "X_train_subset=pd.concat([X_train_subset_class0,X_train_class1])\n",
    "y_train_subset=pd.concat([y_train_subset_class0,y_train_class1])\n",
    "\n",
    "# Since our dataframes are now stuck together with first all class 0 samples, and then all class 1 samples, let's shuffle\n",
    "# them randomly\n",
    "from sklearn.utils import shuffle\n",
    "X_train_subset,y_train_subset = shuffle(X_train_subset,y_train_subset)\n",
    "\n",
    "# Show the new data distribution\n",
    "sns.countplot(x=y_train_subset)\n",
    "plt.show()\n",
    "\n",
    "# Train our model again on this subset\n",
    "model=LogisticRegression(max_iter=10000)\n",
    "model.fit(X_train_subset,y_train_subset)\n",
    "\n",
    "print(model.score(X_test,y_test))\n",
    "\n",
    "y_pred=model.predict(X_test)\n",
    "\n",
    "print(confusion_matrix(y_test,y_pred))\n",
    "print(classification_report(y_test,y_pred))"
   ]
  },
  {
   "cell_type": "markdown",
   "metadata": {},
   "source": [
    "### Oversampling\n",
    "Let's try oversampling instead, note that this is also not the best way. There are modules that can do random oversampling. However, since this is not used a lot, we don't use it here. This is more an example of how this could be done."
   ]
  },
  {
   "cell_type": "code",
   "execution_count": 8,
   "metadata": {},
   "outputs": [
    {
     "name": "stdout",
     "output_type": "stream",
     "text": [
      "Training length class 0: 1900, Training length class 1: 442\n"
     ]
    },
    {
     "data": {
      "image/png": "[encoded data removed]",
      "text/plain": [
       "<Figure size 640x480 with 1 Axes>"
      ]
     },
     "metadata": {},
     "output_type": "display_data"
    },
    {
     "name": "stdout",
     "output_type": "stream",
     "text": [
      "0.6517412935323383\n",
      "[[553 252]\n",
      " [ 98 102]]\n",
      "              precision    recall  f1-score   support\n",
      "\n",
      "           0       0.85      0.69      0.76       805\n",
      "           1       0.29      0.51      0.37       200\n",
      "\n",
      "    accuracy                           0.65      1005\n",
      "   macro avg       0.57      0.60      0.56      1005\n",
      "weighted avg       0.74      0.65      0.68      1005\n",
      "\n"
     ]
    }
   ],
   "source": [
    "print(f\"Training length class 0: {sum(y_train==0)}, Training length class 1: {sum(y_train==1)}\")\n",
    "\n",
    "# Take all class 1 samples\n",
    "X_train_class1 = X_train[y_train==1]\n",
    "y_train_class1 = y_train[y_train==1]\n",
    "\n",
    "# Since there are approximately 4 times as much class '0' samples, we can just add out class 1 values 3 times to the\n",
    "# bottom of the dataset (1 is already in there, so 1+3 times class '1')\n",
    "X_train_oversampled=pd.concat([X_train,X_train_class1,X_train_class1,X_train_class1])\n",
    "y_train_oversampled=pd.concat([y_train,y_train_class1,y_train_class1,y_train_class1])\n",
    "\n",
    "# Also shuffle them (bottom 1350-ish samples are of class '1')\n",
    "from sklearn.utils import shuffle\n",
    "X_train_oversampled,y_train_oversampled = shuffle(X_train_oversampled,y_train_oversampled)\n",
    "\n",
    "# Show the new data distribution\n",
    "sns.countplot(x=y_train_oversampled)\n",
    "plt.show()\n",
    "\n",
    "# Train our model again on this subset\n",
    "model=LogisticRegression(max_iter=10000)\n",
    "model.fit(X_train_oversampled,y_train_oversampled)\n",
    "\n",
    "print(model.score(X_test,y_test))\n",
    "\n",
    "y_pred=model.predict(X_test)\n",
    "\n",
    "print(confusion_matrix(y_test,y_pred))\n",
    "print(classification_report(y_test,y_pred))"
   ]
  },
  {
   "cell_type": "markdown",
   "metadata": {},
   "source": [
    "### Class-weight balancing\n",
    "We can make errors for predicting the smaller class (in this case class 1) a higher impact on the score.\n",
    "\n",
    "If our dataset would be 9/10 class '0' and 1/10 class '1'. We could say: if the prediction of class '1' is wrong => do the error * 9 \n",
    "\n",
    "This is the technique that is mostly used\n"
   ]
  },
  {
   "cell_type": "code",
   "execution_count": 9,
   "metadata": {},
   "outputs": [
    {
     "name": "stdout",
     "output_type": "stream",
     "text": [
      "0.6049751243781094\n",
      "[[494 311]\n",
      " [ 86 114]]\n",
      "              precision    recall  f1-score   support\n",
      "\n",
      "           0       0.85      0.61      0.71       805\n",
      "           1       0.27      0.57      0.36       200\n",
      "\n",
      "    accuracy                           0.60      1005\n",
      "   macro avg       0.56      0.59      0.54      1005\n",
      "weighted avg       0.74      0.60      0.64      1005\n",
      "\n"
     ]
    }
   ],
   "source": [
    "#Let the model decide by itself\n",
    "model=LogisticRegression(max_iter=10000,class_weight=\"balanced\")\n",
    "model.fit(X_train,y_train)\n",
    "\n",
    "print(model.score(X_test,y_test))\n",
    "\n",
    "y_pred=model.predict(X_test)\n",
    "\n",
    "print(confusion_matrix(y_test,y_pred))\n",
    "print(classification_report(y_test,y_pred))"
   ]
  },
  {
   "cell_type": "code",
   "execution_count": 10,
   "metadata": {},
   "outputs": [
    {
     "name": "stdout",
     "output_type": "stream",
     "text": [
      "0.6517412935323383\n",
      "[[553 252]\n",
      " [ 98 102]]\n",
      "              precision    recall  f1-score   support\n",
      "\n",
      "           0       0.85      0.69      0.76       805\n",
      "           1       0.29      0.51      0.37       200\n",
      "\n",
      "    accuracy                           0.65      1005\n",
      "   macro avg       0.57      0.60      0.56      1005\n",
      "weighted avg       0.74      0.65      0.68      1005\n",
      "\n"
     ]
    }
   ],
   "source": [
    "# Define weights ourself\n",
    "model=LogisticRegression(max_iter=10000,class_weight={0:1,1:4}) # You can also provide it as a list, in same order as the \n",
    "                                                                # classes: [1,4], here, class 0 will have a weight of one,\n",
    "                                                                # And class 1 a weight of four. \n",
    "model.fit(X_train,y_train)\n",
    "\n",
    "print(model.score(X_test,y_test))\n",
    "\n",
    "y_pred=model.predict(X_test)\n",
    "\n",
    "print(confusion_matrix(y_test,y_pred))\n",
    "print(classification_report(y_test,y_pred))"
   ]
  }
 ],
 "metadata": {
  "kernelspec": {
   "display_name": "Python 3 (ipykernel)",
   "language": "python",
   "name": "python3"
  },
  "language_info": {
   "codemirror_mode": {
    "name": "ipython",
    "version": 3
   },
   "file_extension": ".py",
   "mimetype": "text/x-python",
   "name": "python",
   "nbconvert_exporter": "python",
   "pygments_lexer": "ipython3",
   "version": "3.12.1"
  }
 },
 "nbformat": 4,
 "nbformat_minor": 4
}
